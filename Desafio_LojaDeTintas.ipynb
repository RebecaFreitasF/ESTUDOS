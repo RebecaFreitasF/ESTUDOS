{
  "nbformat": 4,
  "nbformat_minor": 0,
  "metadata": {
    "colab": {
      "name": "Desafio_LojaDeTintas.ipynb",
      "provenance": [],
      "authorship_tag": "ABX9TyM7kYGkoG+zT8EG66t3WMH2",
      "include_colab_link": true
    },
    "kernelspec": {
      "name": "python3",
      "display_name": "Python 3"
    },
    "language_info": {
      "name": "python"
    }
  },
  "cells": [
    {
      "cell_type": "markdown",
      "metadata": {
        "id": "view-in-github",
        "colab_type": "text"
      },
      "source": [
        "<a href=\"https://colab.research.google.com/github/RebecaFreitasF/ESTUDOS/blob/main/Desafio_LojaDeTintas.ipynb\" target=\"_parent\"><img src=\"https://colab.research.google.com/assets/colab-badge.svg\" alt=\"Open In Colab\"/></a>"
      ]
    },
    {
      "cell_type": "markdown",
      "source": [
        "Faça um Programa para uma loja de tintas. O programa deverá pedir o tamanho em metros quadrados da área a ser pintada. Considere que a cobertura da tinta é de 1 litro para cada 6 metros quadrados e que a tinta é vendida em latas de 18 litros, que custam R$ 80,00 ou em galões de 3,6 litros, que custam R$ 25,00.\n",
        "Informe ao usuário as quantidades de tinta a serem compradas e os respectivos preços em 3 situações:\n",
        "\n",
        "Comprar apenas latas de 18 litros;\n",
        "\n",
        "Comprar apenas galões de 3,6 litros;\n",
        "\n",
        "Misturar latas e galões, de forma que o desperdício de tinta seja menor. Acrescente 10% de folga e sempre arredonde os valores para cima, isto é, considere latas cheias.\n"
      ],
      "metadata": {
        "id": "GqcA8qidqIC6"
      }
    },
    {
      "cell_type": "code",
      "source": [
        "metros_quadrado  = int (input ('digite o tamanho do local:'))\n",
        "soma = metros_quadrado/6 \n",
        "print (f\"A quantidade de tinta ser usada é: {soma}\")\n",
        "\n",
        "\n"
      ],
      "metadata": {
        "colab": {
          "base_uri": "https://localhost:8080/"
        },
        "id": "9HQjLN06qw2n",
        "outputId": "750aa77f-ee3b-4a14-e9e3-e3f1b259941b"
      },
      "execution_count": 2,
      "outputs": [
        {
          "output_type": "stream",
          "name": "stdout",
          "text": [
            "digite o tamanho do local:30\n",
            "a quantidade de tinta ser usada é: 5.0\n"
          ]
        }
      ]
    },
    {
      "cell_type": "code",
      "source": [
        ""
      ],
      "metadata": {
        "id": "LR2bcEmCqRQj"
      },
      "execution_count": null,
      "outputs": []
    }
  ]
}