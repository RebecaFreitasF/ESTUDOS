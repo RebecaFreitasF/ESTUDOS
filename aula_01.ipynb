{
  "nbformat": 4,
  "nbformat_minor": 0,
  "metadata": {
    "colab": {
      "name": "aula 01.ipynb",
      "provenance": [],
      "collapsed_sections": [],
      "authorship_tag": "ABX9TyNKHE/L1xHBsFVF9jhrmvKO",
      "include_colab_link": true
    },
    "kernelspec": {
      "name": "python3",
      "display_name": "Python 3"
    },
    "language_info": {
      "name": "python"
    }
  },
  "cells": [
    {
      "cell_type": "markdown",
      "metadata": {
        "id": "view-in-github",
        "colab_type": "text"
      },
      "source": [
        "<a href=\"https://colab.research.google.com/github/RebecaFreitasF/ESTUDOS/blob/main/aula_01.ipynb\" target=\"_parent\"><img src=\"https://colab.research.google.com/assets/colab-badge.svg\" alt=\"Open In Colab\"/></a>"
      ]
    },
    {
      "cell_type": "code",
      "source": [
        ""
      ],
      "metadata": {
        "id": "fuM9GWIg15j9"
      },
      "execution_count": null,
      "outputs": []
    },
    {
      "cell_type": "markdown",
      "source": [
        "exercicio 01"
      ],
      "metadata": {
        "id": "Ki3l8xmT4Oc4"
      }
    },
    {
      "cell_type": "code",
      "source": [
        "print ('hello world ')\n"
      ],
      "metadata": {
        "colab": {
          "base_uri": "https://localhost:8080/"
        },
        "id": "GD18VbN3183K",
        "outputId": "37e4ac31-b761-4177-d098-8823304432df"
      },
      "execution_count": 2,
      "outputs": [
        {
          "output_type": "stream",
          "name": "stdout",
          "text": [
            "hello world \n"
          ]
        }
      ]
    },
    {
      "cell_type": "code",
      "source": [
        "type ('hello world')"
      ],
      "metadata": {
        "colab": {
          "base_uri": "https://localhost:8080/"
        },
        "id": "EcEMInJ634pn",
        "outputId": "de7f6810-7fb2-4b05-b0f2-bf863fd641a0"
      },
      "execution_count": 3,
      "outputs": [
        {
          "output_type": "execute_result",
          "data": {
            "text/plain": [
              "str"
            ]
          },
          "metadata": {},
          "execution_count": 3
        }
      ]
    },
    {
      "cell_type": "markdown",
      "source": [
        "exercicio 02"
      ],
      "metadata": {
        "id": "zHzBoJA74hB0"
      }
    },
    {
      "cell_type": "code",
      "source": [
        "numero = input ('digite um numero:') \n",
        "print (f'o numero informado foi {numero}')"
      ],
      "metadata": {
        "colab": {
          "base_uri": "https://localhost:8080/"
        },
        "id": "rI3aX_DW4nk9",
        "outputId": "2f38e1fb-0f68-4fa3-9b30-bd33e352064d"
      },
      "execution_count": 8,
      "outputs": [
        {
          "output_type": "stream",
          "name": "stdout",
          "text": [
            "digite um numero:56\n",
            "o numero informado foi 56\n"
          ]
        }
      ]
    },
    {
      "cell_type": "markdown",
      "source": [
        "exercicio 03\n"
      ],
      "metadata": {
        "id": "Gu30sSnb6FvP"
      }
    },
    {
      "cell_type": "code",
      "source": [
        "numero_1 = int (input ('digite um numero:'))\n",
        "numero_2 = int (input ('digite um numero:'))\n",
        "soma = numero_1 + numero_2\n",
        "print (f\"a soma dos dois numero é: {soma}\")\n",
        "type (numero_1)\n"
      ],
      "metadata": {
        "colab": {
          "base_uri": "https://localhost:8080/"
        },
        "id": "s43CN2xm6R1V",
        "outputId": "92347996-f599-4efa-b892-a36cebe3aa8d"
      },
      "execution_count": 12,
      "outputs": [
        {
          "output_type": "stream",
          "name": "stdout",
          "text": [
            "digite um numero:1\n",
            "digite um numero:2\n",
            "a soma dos dois numero é: 3\n"
          ]
        },
        {
          "output_type": "execute_result",
          "data": {
            "text/plain": [
              "int"
            ]
          },
          "metadata": {},
          "execution_count": 12
        }
      ]
    }
  ]
}